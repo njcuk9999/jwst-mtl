{
 "cells": [
  {
   "cell_type": "code",
   "execution_count": 35,
   "id": "415138a3",
   "metadata": {},
   "outputs": [],
   "source": [
    "import trace.tracepol as tp\n",
    "import numpy as np\n",
    "from astropy.io import fits\n",
    "import itsosspipeline as soss\n",
    "import sys\n",
    "import os\n",
    "import specgen.spgen as spgen\n",
    "from sys import path\n",
    "\n",
    "# Imports from the extraction\n",
    "#from extract.overlap import TrpzOverlap\n",
    "#from extract.throughput import ThroughputSOSS\n",
    "#from extract.convolution import WebbKer\n",
    "\n",
    "# Imports for plots\n",
    "import matplotlib.pyplot as plt\n",
    "from matplotlib.colors import LogNorm  # For displaying of FITS images.\n",
    "\n",
    "import box_kim"
   ]
  },
  {
   "cell_type": "code",
   "execution_count": 36,
   "id": "26a4d833",
   "metadata": {},
   "outputs": [],
   "source": [
    "# Matplotlib defaults\n",
    "plt.rc('figure', figsize=(13,7))\n",
    "plt.rc('font', size=14)\n",
    "plt.rc('image', cmap='inferno')\n",
    "plt.rc('lines', lw=1)"
   ]
  },
  {
   "cell_type": "code",
   "execution_count": 37,
   "id": "ceedbe02",
   "metadata": {},
   "outputs": [
    {
     "name": "stdout",
     "output_type": "stream",
     "text": [
      "spgen.py - warning - fix the bug with orderlist\n"
     ]
    }
   ],
   "source": [
    "WORKING_DIR = '/home/kmorel/ongenesis/jwst-user-soss/PHY3030/'\n",
    "\n",
    "sys.path.insert(0, \"/genesis/jwst/jwst-ref-soss/fortran_lib/\")\n",
    "\n",
    "# Read in all paths used to locate reference files and directories\n",
    "config_paths_filename = os.path.join(WORKING_DIR, 'jwst-mtl_configpath_kim.txt')\n",
    "pathPars = soss.paths()\n",
    "soss.readpaths(config_paths_filename, pathPars)\n",
    "\n",
    "# Create and read the simulation parameters\n",
    "simuPars = spgen.ModelPars()              # Set up default parameters\n",
    "simuPars = spgen.read_pars(pathPars.simulationparamfile, simuPars)    # Read in parameter file"
   ]
  },
  {
   "cell_type": "code",
   "execution_count": 38,
   "id": "54cdfd27",
   "metadata": {},
   "outputs": [],
   "source": [
    "def normalization(f_lambda, t1, t4):\n",
    "    \"\"\"\n",
    "    Normalize transit light curve by mean during out of transit.\n",
    "    \"\"\"\n",
    "    hors_t = np.concatenate((f_lambda[: t1 + 1], f_lambda[t4:]))\n",
    "    mean = np.mean(hors_t)\n",
    "    return f_lambda / mean\n",
    "\n",
    "def transit_depth(f_lambda, t2, t3):\n",
    "    \"\"\"\n",
    "    Calculates mean flux value during transit.\n",
    "    \"\"\"\n",
    "    return np.mean(f_lambda[t2: t3+1])\n",
    "\n",
    "def fit_resFunc(coeff, x, y):\n",
    "    \"\"\"\n",
    "    Function to minimize in least square fit for polynomial retrieval.\n",
    "    \"\"\"\n",
    "    p = np.poly1d(coeff)\n",
    "    return (p(x)) - y"
   ]
  },
  {
   "cell_type": "markdown",
   "id": "306e08d2",
   "metadata": {},
   "source": [
    "Load simulations"
   ]
  },
  {
   "cell_type": "code",
   "execution_count": 39,
   "id": "226ce0f7",
   "metadata": {},
   "outputs": [
    {
     "name": "stdout",
     "output_type": "stream",
     "text": [
      "(4, 256, 2048)\n"
     ]
    }
   ],
   "source": [
    "gain = 1.6   # é per adu\n",
    "\n",
    "# NOISY\n",
    "noisy_rateints = fits.open(WORKING_DIR + 'IDTSOSS_clear_noisy--photon_rateints.fits')\n",
    "\n",
    "# Noisy images for extraction\n",
    "data_noisy = noisy_rateints[1].data     # Images of flux [adu/s]\n",
    "data_noisy = data_noisy.astype('float64', copy=False)\n",
    "delta_noisy = noisy_rateints[2].data     # Errors [adu/s]\n",
    "delta_noisy = delta_noisy.astype('float64', copy=False)\n",
    "\n",
    "print(np.shape(data_noisy))\n",
    "\n",
    "dq = noisy_rateints[3].data  # Data quality\n",
    "i = np.where(dq % 2 != 0)  # Odd values of dq = DO NOT USE these pixels\n",
    "data_noisy[i[0], i[1], i[2]] = 0.\n",
    "delta_noisy[i[0], i[1], i[2]] = 0.\n",
    "\n",
    "# NOISELESS\n",
    "clear = fits.open(WORKING_DIR + 'IDTSOSS_clear.fits')\n",
    "\n",
    "data_clear = clear[1].data[:,-1]  # Images of flux [adu/s]  (Last image of each integration)\n",
    "   \n",
    "# Convert data from fits files to float (fits precision is 1e-8)\n",
    "data_noiseless = [im_ord.astype('float64') for im_ord in data_clear]"
   ]
  },
  {
   "cell_type": "markdown",
   "id": "b87411ba",
   "metadata": {},
   "source": [
    "Extraction"
   ]
  },
  {
   "cell_type": "code",
   "execution_count": 40,
   "id": "062f9bb4",
   "metadata": {},
   "outputs": [],
   "source": [
    "# BOX EXTRACTION\n",
    "\n",
    "# Position of trace for box extraction\n",
    "x, y, w = box_kim.readtrace(os=1)\n",
    "\n",
    "# Extractions\n",
    "fbox_noiseless = np.zeros(shape=(np.shape(data_noiseless)[0], np.shape(data_noiseless)[2]), dtype='float')\n",
    "fbox_noisy = np.zeros(shape=(np.shape(data_noisy)[0], np.shape(data_noisy)[2]), dtype='float')\n",
    "\n",
    "radius_pixel = 35  # Radius for box extraction\n",
    "oversample = simuPars.noversample  # Oversampling of the simulation\n",
    "\n",
    "for t in range(np.shape(data_noiseless)[0]):  # For each image of the timeseries\n",
    "    fbox_noiseless[t] = box_kim.flambda_adu(x, data_noiseless[t], y, radius_pixel=radius_pixel) / oversample * gain   # [e⁻/s]\n",
    "    fbox_noisy[t] = box_kim.flambda_adu(x, data_noisy[t], y, radius_pixel=radius_pixel) / oversample * gain   # [e⁻/s]"
   ]
  },
  {
   "cell_type": "code",
   "execution_count": 41,
   "id": "08876736",
   "metadata": {},
   "outputs": [],
   "source": [
    "lam_array = w\n",
    "\n",
    "f_array_noiseless = fbox_noiseless\n",
    "f_array_noiseless = np.nan_to_num(f_array_noiseless)\n",
    "f_array_noisy = fbox_noisy\n",
    "f_array_noisy = np.nan_to_num(f_array_noisy)\n",
    "\n",
    "time = np.arange(f_array_noiseless.shape[0])\n",
    "time_min = time * 5. * 5.491 / 60.  # [min]"
   ]
  },
  {
   "cell_type": "code",
   "execution_count": 42,
   "id": "8689c606",
   "metadata": {},
   "outputs": [],
   "source": [
    "# White light curve\n",
    "f_white_noiseless = np.sum(f_array_noiseless, axis=1)\n",
    "f_white_noisy = np.sum(f_array_noisy, axis=1)"
   ]
  },
  {
   "cell_type": "code",
   "execution_count": 43,
   "id": "e865b0f0",
   "metadata": {},
   "outputs": [
    {
     "data": {
      "image/png": "[encoded data removed]",
      "text/plain": [
       "<Figure size 936x504 with 1 Axes>"
      ]
     },
     "metadata": {
      "needs_background": "light"
     },
     "output_type": "display_data"
    },
    {
     "data": {
      "image/png": "[encoded data removed]",
      "text/plain": [
       "<Figure size 936x504 with 1 Axes>"
      ]
     },
     "metadata": {
      "needs_background": "light"
     },
     "output_type": "display_data"
    }
   ],
   "source": [
    "plt.figure()\n",
    "plt.plot(time_min, f_white_noiseless, '.', color='b', label='Noiseless')\n",
    "plt.xlabel('Time [min]')\n",
    "plt.ylabel(r'Flux')\n",
    "plt.legend()\n",
    "plt.show()\n",
    "\n",
    "plt.figure()\n",
    "plt.plot(time_min, f_white_noisy, '.', color='r', label='Noisy')\n",
    "plt.xlabel('Time [min]')\n",
    "plt.ylabel(r'Flux')\n",
    "plt.legend()\n",
    "plt.show()"
   ]
  },
  {
   "cell_type": "code",
   "execution_count": null,
   "id": "b40cd659",
   "metadata": {},
   "outputs": [],
   "source": []
  }
 ],
 "metadata": {
  "kernelspec": {
   "display_name": "Python 3",
   "language": "python",
   "name": "python3"
  },
  "language_info": {
   "codemirror_mode": {
    "name": "ipython",
    "version": 3
   },
   "file_extension": ".py",
   "mimetype": "text/x-python",
   "name": "python",
   "nbconvert_exporter": "python",
   "pygments_lexer": "ipython3",
   "version": "3.8.5"
  }
 },
 "nbformat": 4,
 "nbformat_minor": 5
}
