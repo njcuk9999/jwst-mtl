{
 "cells": [
  {
   "cell_type": "markdown",
   "id": "3cf46747",
   "metadata": {},
   "source": [
    "# This notebook was used to produce a reference file needed for the PHOENIX_to_SOSS process\n",
    "\n",
    "## 1) The first step is to define a wavelength grid and a PHOENIX file to work with\n",
    "\n",
    "## 2) Then, the code calculates which wavelengths in the PHOENIX file are closest to the ones defined in the grid and takes note of the index of that wavelength in the file. Since all PHOENIX files in '/home/albert/www-/jwst/phoenix/' have the same wavelength grid, we are guaranteed that indices found for one file apply to all of them.\n",
    "\n",
    "## 3) Finally, a reference file is constructed which informs us where certain wavelengths are stored with the wavelength list of a PHOENIX file.\n",
    "\n",
    "# This whole thing ultimately helps speed up calculations by avoiding to compute wavelength indices over and over again during development and during the official conversion run of PHOENIX_to_SOSS "
   ]
  },
  {
   "cell_type": "code",
   "execution_count": 1,
   "id": "0890de90",
   "metadata": {},
   "outputs": [],
   "source": [
    "import numpy as np\n",
    "import matplotlib.pyplot as plt\n",
    "%matplotlib notebook\n",
    "from scipy.optimize import curve_fit\n",
    "from time import time\n",
    "\n",
    "from sys import path as sys_path\n",
    "sys_path.append(\"../frosty_code/\")\n",
    "from rdrf import rdrf\n",
    "from rdrf_frost import rdrf_frost, rdrf_test\n",
    "\n",
    "from os import path as os_path\n",
    "from os import linesep, listdir, remove, mkdir\n",
    "\n",
    "import h5py\n",
    "import gzip\n",
    "import shutil"
   ]
  },
  {
   "cell_type": "code",
   "execution_count": 18,
   "id": "286199dc",
   "metadata": {},
   "outputs": [
    {
     "name": "stdout",
     "output_type": "stream",
     "text": [
      "Wav #1: 0.0 secs have passed\n",
      "Wav #100001: 19.07 secs have passed\n",
      "Wav #200001: 38.09 secs have passed\n",
      "Wav #300001: 57.15 secs have passed\n",
      "Wav #400001: 76.16 secs have passed\n",
      "Wav #500001: 95.17 secs have passed\n",
      "Wav #600001: 114.18 secs have passed\n",
      "Wav #700001: 133.19 secs have passed\n",
      "Wav #800001: 152.19 secs have passed\n",
      "Wav #900001: 171.15 secs have passed\n",
      "Wav #1000001: 190.12 secs have passed\n",
      "Wav #1100001: 209.11 secs have passed\n",
      "Wav #1200001: 228.11 secs have passed\n",
      "Wav #1300001: 247.14 secs have passed\n",
      "Wav #1400001: 266.12 secs have passed\n",
      "Wav #1500001: 285.02 secs have passed\n",
      "Wav #1600001: 303.95 secs have passed\n",
      "Wav #1700001: 322.89 secs have passed\n",
      "Wav #1800001: 341.85 secs have passed\n",
      "Wav #1900001: 360.78 secs have passed\n",
      "Wav #2000001: 379.74 secs have passed\n",
      "Wav #2100001: 398.67 secs have passed\n",
      "Wav #2200001: 417.66 secs have passed\n",
      "Wav #2300001: 436.6 secs have passed\n"
     ]
    }
   ],
   "source": [
    "#fn = \"lte02300-3.00-0.0.PHOENIX-ACES-AGSS-COND-2011.JWST-RF.h5\"\n",
    "fn = \"lte04300-3.00-0.0.PHOENIX-ACES-AGSS-COND-2011.JWST-RF.h5\"\n",
    "\n",
    "if True:\n",
    "    with h5py.File(fn , 'r') as f:\n",
    "            \n",
    "        group_key_phoenixRF = list(f.keys())[0]      # file only has a single key on first level\n",
    "        data_group = f[group_key_phoenixRF]\n",
    "        \n",
    "        wv_min = data_group['wl'][0] / 1e4\n",
    "        wv_max = data_group['wl'][-1] / 1e4\n",
    "        \n",
    "        wv_vals = np.arange( wv_min , 6.05 , 0.05 )\n",
    "        wv_vals = np.append( wv_vals , np.arange( 6.0 , 30.5 , 0.5 ) )\n",
    "        wv_vals = np.unique(wv_vals)\n",
    "        \n",
    "        wv_inds = np.zeros(len(wv_vals))\n",
    "        \n",
    "        t0 = time()\n",
    "        recon_index = 0\n",
    "        for i in range(data_group['nwl'][0]):\n",
    "            \n",
    "            if recon_index >= len(wv_vals):\n",
    "                break\n",
    "            \n",
    "            wav_i = data_group['wl'][i] / 1e4\n",
    "            if wav_i >= wv_vals[recon_index]:\n",
    "                if wav_i == wv_vals[recon_index]:\n",
    "                    wv_inds[recon_index] = i\n",
    "                else:\n",
    "                    wv_inds[recon_index] = np.max(i-1,0)\n",
    "                recon_index += 1\n",
    "            \n",
    "            if (i+1)%100000 == 0:\n",
    "                print(\"Wav #\"+str(i+1)+\": \"+str(round(time()-t0,2))+\" secs have passed\")\n",
    "        \n",
    "        wv_inds[-1] = data_group['nwl'][0] - 1\n",
    "        \n",
    "                \n",
    "        \n",
    "        \n",
    "        #print( list(data_group_1['wl'])==list(data_group_2['wl']) )\n",
    "        #print( data_group_1['Intensities'][0][100]==data_group_2['Intensities'][0][100] )"
   ]
  },
  {
   "cell_type": "code",
   "execution_count": 19,
   "id": "470771be",
   "metadata": {},
   "outputs": [
    {
     "data": {
      "text/plain": [
       "array([      0.,   10000.,   20000.,   30000.,   40000.,   50000.,\n",
       "         60000.,   70000.,   80000.,   90000.,  100000.,  110000.,\n",
       "        120000.,  130000.,  140000.,  150000.,  160000.,  170000.,\n",
       "        180000.,  190000.,  200000.,  210000.,  220000.,  230000.,\n",
       "        240000.,  250000.,  260000.,  270000.,  280000.,  290000.,\n",
       "        300000.,  310000.,  320000.,  330000.,  340000.,  350000.,\n",
       "        360000.,  370000.,  380000.,  390000.,  400000.,  410000.,\n",
       "        420000.,  429999.,  440000.,  450000.,  460000.,  470000.,\n",
       "        480000.,  490000.,  500000.,  510000.,  520000.,  530000.,\n",
       "        540000.,  550000.,  560000.,  570000.,  580000.,  590000.,\n",
       "        600000.,  610000.,  620000.,  630000.,  640000.,  650000.,\n",
       "        660000.,  670000.,  680000.,  690000.,  700000.,  710000.,\n",
       "        720000.,  730000.,  740000.,  750000.,  760000.,  770000.,\n",
       "        780000.,  790000.,  800000.,  810000.,  820000.,  830000.,\n",
       "        840000.,  850000.,  860000.,  870000.,  880000.,  890000.,\n",
       "        900000.,  910000.,  920000.,  930000.,  940000.,  950000.,\n",
       "        960000.,  970000.,  980000.,  990000., 1000000., 1010000.,\n",
       "       1020000., 1030000., 1040000., 1050000., 1060000., 1070000.,\n",
       "       1080000., 1090000., 1092500., 1095000., 1097500., 1100000.,\n",
       "       1102500., 1105000., 1107500., 1110000., 1112500., 1115000.,\n",
       "       1140000., 1165000., 1190000., 1215000., 1240000., 1265000.,\n",
       "       1290000., 1315000., 1340000., 1365000., 1390000., 1415000.,\n",
       "       1440000., 1465000., 1490000., 1515000., 1540000., 1565000.,\n",
       "       1590000., 1615000., 1640000., 1665000., 1690000., 1715000.,\n",
       "       1740000., 1765000., 1790000., 1815000., 1840000., 1865000.,\n",
       "       1890000., 1915000., 1940000., 1965000., 1990000., 2015000.,\n",
       "       2040000., 2065000., 2090000., 2115000., 2140000., 2165000.,\n",
       "       2190000., 2215000., 2240000., 2265000., 2290000., 2314999.])"
      ]
     },
     "execution_count": 19,
     "metadata": {},
     "output_type": "execute_result"
    }
   ],
   "source": [
    "wv_inds"
   ]
  },
  {
   "cell_type": "code",
   "execution_count": 20,
   "id": "167ee9da",
   "metadata": {},
   "outputs": [
    {
     "name": "stdout",
     "output_type": "stream",
     "text": [
      "[      0   10000   20000   30000   40000   50000   60000   70000   80000\n",
      "   90000  100000  110000  120000  130000  140000  150000  160000  170000\n",
      "  180000  190000  200000  210000  220000  230000  240000  250000  260000\n",
      "  270000  280000  290000  300000  310000  320000  330000  340000  350000\n",
      "  360000  370000  380000  390000  400000  410000  420000  429999  440000\n",
      "  450000  460000  470000  480000  490000  500000  510000  520000  530000\n",
      "  540000  550000  560000  570000  580000  590000  600000  610000  620000\n",
      "  630000  640000  650000  660000  670000  680000  690000  700000  710000\n",
      "  720000  730000  740000  750000  760000  770000  780000  790000  800000\n",
      "  810000  820000  830000  840000  850000  860000  870000  880000  890000\n",
      "  900000  910000  920000  930000  940000  950000  960000  970000  980000\n",
      "  990000 1000000 1010000 1020000 1030000 1040000 1050000 1060000 1070000\n",
      " 1080000 1090000 1092500 1095000 1097500 1100000 1102500 1105000 1107500\n",
      " 1110000 1112500 1115000 1140000 1165000 1190000 1215000 1240000 1265000\n",
      " 1290000 1315000 1340000 1365000 1390000 1415000 1440000 1465000 1490000\n",
      " 1515000 1540000 1565000 1590000 1615000 1640000 1665000 1690000 1715000\n",
      " 1740000 1765000 1790000 1815000 1840000 1865000 1890000 1915000 1940000\n",
      " 1965000 1990000 2015000 2040000 2065000 2090000 2115000 2140000 2165000\n",
      " 2190000 2215000 2240000 2265000 2290000 2314999]\n"
     ]
    }
   ],
   "source": [
    "wv_inds_final = np.array(wv_inds , np.int32)\n",
    "print(wv_inds_final)"
   ]
  },
  {
   "cell_type": "code",
   "execution_count": 25,
   "id": "297ca0c3",
   "metadata": {},
   "outputs": [
    {
     "name": "stdout",
     "output_type": "stream",
     "text": [
      "5.05\n",
      "5.05\n",
      "\n",
      "5.1\n",
      "5.1000000000000005\n",
      "\n",
      "5.15\n",
      "5.15\n",
      "\n",
      "5.2\n",
      "5.2\n",
      "\n",
      "5.25\n",
      "5.25\n",
      "\n",
      "5.3\n",
      "5.3\n",
      "\n",
      "5.35\n",
      "5.3500000000000005\n",
      "\n",
      "5.4\n",
      "5.4\n",
      "\n",
      "5.45\n",
      "5.45\n",
      "\n",
      "5.5\n",
      "5.5\n",
      "\n"
     ]
    }
   ],
   "source": [
    "with h5py.File(fn , 'r') as f:\n",
    "    group_key_phoenixRF = list(f.keys())[0]      # file only has a single key on first level\n",
    "    data_group = f[group_key_phoenixRF]\n",
    "    \n",
    "    for i in range(100,110):\n",
    "        print(data_group['wl'][wv_inds_final[i]] / 1e4)\n",
    "        print(wv_vals[i])\n",
    "        print()"
   ]
  },
  {
   "cell_type": "code",
   "execution_count": 36,
   "id": "ec7e7ad9",
   "metadata": {},
   "outputs": [
    {
     "name": "stdout",
     "output_type": "stream",
     "text": [
      "[ 0.05  0.1   0.15  0.2   0.25  0.3   0.35  0.4   0.45  0.5   0.55  0.6\n",
      "  0.65  0.7   0.75  0.8   0.85  0.9   0.95  1.    1.05  1.1   1.15  1.2\n",
      "  1.25  1.3   1.35  1.4   1.45  1.5   1.55  1.6   1.65  1.7   1.75  1.8\n",
      "  1.85  1.9   1.95  2.    2.05  2.1   2.15  2.2   2.25  2.3   2.35  2.4\n",
      "  2.45  2.5   2.55  2.6   2.65  2.7   2.75  2.8   2.85  2.9   2.95  3.\n",
      "  3.05  3.1   3.15  3.2   3.25  3.3   3.35  3.4   3.45  3.5   3.55  3.6\n",
      "  3.65  3.7   3.75  3.8   3.85  3.9   3.95  4.    4.05  4.1   4.15  4.2\n",
      "  4.25  4.3   4.35  4.4   4.45  4.5   4.55  4.6   4.65  4.7   4.75  4.8\n",
      "  4.85  4.9   4.95  5.    5.05  5.1   5.15  5.2   5.25  5.3   5.35  5.4\n",
      "  5.45  5.5   5.55  5.6   5.65  5.7   5.75  5.8   5.85  5.9   5.95  6.\n",
      "  6.5   7.    7.5   8.    8.5   9.    9.5  10.   10.5  11.   11.5  12.\n",
      " 12.5  13.   13.5  14.   14.5  15.   15.5  16.   16.5  17.   17.5  18.\n",
      " 18.5  19.   19.5  20.   20.5  21.   21.5  22.   22.5  23.   23.5  24.\n",
      " 24.5  25.   25.5  26.   26.5  27.   27.5  28.   28.5  29.   29.5  30.  ]\n",
      "[0.05, 0.1, 0.15, 0.2, 0.25, 0.3, 0.35, 0.4, 0.45, 0.5, 0.55, 0.6, 0.65, 0.7, 0.75, 0.8, 0.85, 0.9, 0.95, 1.0, 1.05, 1.1, 1.15, 1.2, 1.25, 1.3, 1.35, 1.4, 1.45, 1.5, 1.55, 1.6, 1.65, 1.7, 1.75, 1.8, 1.85, 1.9, 1.95, 2.0, 2.05, 2.1, 2.15, 2.2, 2.25, 2.3, 2.35, 2.4, 2.45, 2.5, 2.55, 2.6, 2.65, 2.7, 2.75, 2.8, 2.85, 2.9, 2.95, 3.0, 3.05, 3.1, 3.15, 3.2, 3.25, 3.3, 3.35, 3.4, 3.45, 3.5, 3.55, 3.6, 3.65, 3.7, 3.75, 3.8, 3.85, 3.9, 3.95, 4.0, 4.05, 4.1, 4.15, 4.2, 4.25, 4.3, 4.35, 4.4, 4.45, 4.5, 4.55, 4.6, 4.65, 4.7, 4.75, 4.8, 4.85, 4.9, 4.95, 5.0, 5.05, 5.1, 5.15, 5.2, 5.25, 5.3, 5.35, 5.4, 5.45, 5.5, 5.55, 5.6, 5.65, 5.7, 5.75, 5.8, 5.85, 5.9, 5.95, 6.0, 6.5, 7.0, 7.5, 8.0, 8.5, 9.0, 9.5, 10.0, 10.5, 11.0, 11.5, 12.0, 12.5, 13.0, 13.5, 14.0, 14.5, 15.0, 15.5, 16.0, 16.5, 17.0, 17.5, 18.0, 18.5, 19.0, 19.5, 20.0, 20.5, 21.0, 21.5, 22.0, 22.5, 23.0, 23.5, 24.0, 24.5, 25.0, 25.5, 26.0, 26.5, 27.0, 27.5, 28.0, 28.5, 29.0, 29.5, 30.0]\n",
      "[ True  True False  True  True  True False  True  True  True  True False\n",
      " False False False  True False False False  True  True  True False False\n",
      " False  True  True False False False  True  True False False False  True\n",
      "  True False False  True  True  True  True False  True  True  True  True\n",
      "  True  True  True  True  True  True  True  True  True  True  True  True\n",
      "  True  True  True  True  True  True  True  True  True  True  True  True\n",
      "  True  True  True  True  True  True  True  True  True  True  True  True\n",
      "  True  True  True  True  True  True  True  True  True  True  True  True\n",
      " False  True  True  True  True False  True  True  True  True False  True\n",
      "  True  True  True False  True  True  True  True False  True  True  True\n",
      "  True  True  True  True  True  True  True  True  True  True  True  True\n",
      "  True  True  True  True  True  True  True  True  True  True  True  True\n",
      "  True  True  True  True  True  True  True  True  True  True  True  True\n",
      "  True  True  True  True  True  True  True  True  True  True  True  True]\n",
      "0.15000000000000002\n"
     ]
    }
   ],
   "source": [
    "print(wv_vals)\n",
    "wv_vals_final = [ round(wv,10) for wv in wv_vals ]\n",
    "print(wv_vals_final)\n",
    "print(wv_vals == wv_vals_final)\n",
    "print(wv_vals[2])"
   ]
  },
  {
   "cell_type": "code",
   "execution_count": 37,
   "id": "3064f5fe",
   "metadata": {},
   "outputs": [],
   "source": [
    "np.save('PHOENIX_wav_inds.npy' , [wv_inds_final , wv_vals_final])"
   ]
  },
  {
   "cell_type": "code",
   "execution_count": null,
   "id": "569f8f5f",
   "metadata": {},
   "outputs": [],
   "source": []
  }
 ],
 "metadata": {
  "kernelspec": {
   "display_name": "Python 3",
   "language": "python",
   "name": "python3"
  },
  "language_info": {
   "codemirror_mode": {
    "name": "ipython",
    "version": 3
   },
   "file_extension": ".py",
   "mimetype": "text/x-python",
   "name": "python",
   "nbconvert_exporter": "python",
   "pygments_lexer": "ipython3",
   "version": "3.8.8"
  }
 },
 "nbformat": 4,
 "nbformat_minor": 5
}
