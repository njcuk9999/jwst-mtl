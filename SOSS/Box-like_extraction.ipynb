{
 "cells": [
  {
   "cell_type": "markdown",
   "metadata": {},
   "source": [
    "# Use the trapezoidal extraction to perform a box-like extraction\n",
    "- Can be used for decontaminated orders\n",
    "- Accounts implicitely for the tilt in the wavelength solution (unlike a simple box extraction)"
   ]
  },
  {
   "cell_type": "markdown",
   "metadata": {},
   "source": [
    "## Imports"
   ]
  },
  {
   "cell_type": "code",
   "execution_count": 1,
   "metadata": {},
   "outputs": [],
   "source": [
    "# Imports for plots\n",
    "import matplotlib.pyplot as plt\n",
    "from matplotlib.colors import LogNorm #for better display of FITS images\n",
    "\n",
    "# Imports from standard packages\n",
    "from astropy.io import fits\n",
    "import numpy as np\n",
    "\n",
    "# Imports for extraction\n",
    "from extract.overlap import TrpzOverlap, TrpzBox"
   ]
  },
  {
   "cell_type": "markdown",
   "metadata": {},
   "source": [
    "### Matplotlib defaults"
   ]
  },
  {
   "cell_type": "code",
   "execution_count": 2,
   "metadata": {},
   "outputs": [],
   "source": [
    "%matplotlib inline"
   ]
  },
  {
   "cell_type": "code",
   "execution_count": 3,
   "metadata": {},
   "outputs": [],
   "source": [
    "plt.rc('figure', figsize=(9,3))\n",
    "plt.rcParams[\"image.cmap\"] = \"inferno\""
   ]
  },
  {
   "cell_type": "markdown",
   "metadata": {},
   "source": [
    "## Read some ref files"
   ]
  },
  {
   "cell_type": "code",
   "execution_count": 4,
   "metadata": {},
   "outputs": [],
   "source": [
    "# Read relevant files\n",
    "wv_1 = fits.open(\"extract/Ref_files/wavelengths_m1.fits\")[0].data\n",
    "wv_2 = fits.open(\"extract/Ref_files/wavelengths_m2.fits\")[0].data\n",
    "P1 = fits.open(\"extract/Ref_files/spat_profile_m1.fits\")[0].data.squeeze()\n",
    "P2 = fits.open(\"extract/Ref_files/spat_profile_m2.fits\")[0].data.squeeze()\n",
    "\n",
    "# Convert to float (fits precision is 1e-8)\n",
    "wv_1 = wv_1.astype(float)\n",
    "wv_2 = wv_2.astype(float)\n",
    "P1 = P1.astype(float)\n",
    "P2 = P2.astype(float)"
   ]
  },
  {
   "cell_type": "markdown",
   "metadata": {},
   "source": [
    "## Load simulation"
   ]
  },
  {
   "cell_type": "code",
   "execution_count": 5,
   "metadata": {},
   "outputs": [],
   "source": [
    "# Import custom function to read toy simulation\n",
    "from sys import path\n",
    "path.append(\"Fake_data\")\n",
    "from simu_utils import load_simu\n",
    "# Load a simulation (only order 1)\n",
    "simu = load_simu(\"Fake_data/phoenix_teff_02300_scale_1.0e+02.fits\", order=1)\n",
    "data = simu[\"data\"]"
   ]
  },
  {
   "cell_type": "markdown",
   "metadata": {},
   "source": [
    "## Extraction"
   ]
  },
  {
   "cell_type": "code",
   "execution_count": 6,
   "metadata": {},
   "outputs": [],
   "source": [
    "# Use a single row for final wavelength bin\n",
    "grid_box = wv_1[50,:]"
   ]
  },
  {
   "cell_type": "code",
   "execution_count": 7,
   "metadata": {},
   "outputs": [],
   "source": [
    "# Define extraction object\n",
    "extra = TrpzBox(P1, wv_1, box_width=40)\n",
    "\n",
    "# Extract the flux\n",
    "f_k = extra.extract(data=data)\n",
    "\n",
    "# Bin to pixels\n",
    "_, f_bin = extra.bin_to_pixel(grid_pix=grid_box, f_k=f_k)"
   ]
  },
  {
   "cell_type": "markdown",
   "metadata": {},
   "source": [
    "`f_bin` is equivalent to the output of a box extraction (same units)"
   ]
  },
  {
   "cell_type": "code",
   "execution_count": 8,
   "metadata": {},
   "outputs": [
    {
     "data": {
      "image/png": "[encoded data removed]",
      "text/plain": [
       "<Figure size 648x216 with 1 Axes>"
      ]
     },
     "metadata": {
      "needs_background": "light"
     },
     "output_type": "display_data"
    }
   ],
   "source": [
    "plt.plot(grid_box, f_bin)\n",
    "plt.xlabel(\"Wavelength [$\\mu m$]\")\n",
    "plt.ylabel(\"Counts\")\n",
    "plt.show()"
   ]
  },
  {
   "cell_type": "code",
   "execution_count": null,
   "metadata": {},
   "outputs": [],
   "source": []
  }
 ],
 "metadata": {
  "kernelspec": {
   "display_name": "Python 3",
   "language": "python",
   "name": "python3"
  },
  "language_info": {
   "codemirror_mode": {
    "name": "ipython",
    "version": 3
   },
   "file_extension": ".py",
   "mimetype": "text/x-python",
   "name": "python",
   "nbconvert_exporter": "python",
   "pygments_lexer": "ipython3",
   "version": "3.7.7"
  }
 },
 "nbformat": 4,
 "nbformat_minor": 4
}
