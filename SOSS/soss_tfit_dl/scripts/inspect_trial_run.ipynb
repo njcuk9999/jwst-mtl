{
 "cells": [
  {
   "cell_type": "code",
   "execution_count": null,
   "id": "fdd88b09",
   "metadata": {},
   "outputs": [],
   "source": [
    "from soss_tfit.core import core\n",
    "from soss_tfit.science import mcmc\n",
    "from soss_tfit.science import plot\n",
    "\n",
    "import numpy as np\n",
    "import matplotlib.pyplot as plt\n",
    "plt.rcParams['figure.figsize'] = [14.0, 6.0]\n",
    "\n",
    "# printer\n",
    "cprint = core.base_classes.Printer()"
   ]
  },
  {
   "cell_type": "code",
   "execution_count": null,
   "id": "997770aa",
   "metadata": {},
   "outputs": [],
   "source": [
    "#load the Sampler object from pickle file\n",
    "# pfile=\"/home/dlafre/projects/def-dlafre/dlafre/tfit/outputs/wasp-52b_t_logg_sampler_trial.pickle\"\n",
    "pfile=\"/home/dlafre/projects/def-dlafre/dlafre/tfit/outputs/wasp-52b_fixed_ld_sampler_trial.pickle\"\n",
    "sampler=mcmc.Sampler.load(pfile)\n",
    "tfit=sampler.tfit\n",
    "\n",
    "\n",
    "#some info\n",
    "print('Mode:',sampler.mode)\n",
    "print('Number of walkers:',len(sampler.wchains))\n",
    "print('Number of loops completed:',sampler.nloop)\n",
    "print('Number of steps completed by each walker:',sampler.wchains[0].shape[0]*tfit.params['THINNING'])\n",
    "print()\n",
    "print('Number of steps/walker for next loop:',sampler.nsteps)\n",
    "print('Increment of steps per loop:',tfit.params['NSTEPS_INC']['full'])\n",
    "print()\n",
    "print('Number of photometric bins',tfit.n_phot)\n",
    "print('Number of fitted paramters',tfit.x0.size)"
   ]
  },
  {
   "cell_type": "code",
   "execution_count": null,
   "id": "0c665f62",
   "metadata": {},
   "outputs": [],
   "source": [
    "#show the model parameters and their value\n",
    "bpass=55\n",
    "for i,n in enumerate(tfit.pnames):\n",
    "    print(i,n,tfit.p0[i,bpass])"
   ]
  },
  {
   "cell_type": "code",
   "execution_count": null,
   "id": "9ffe2bfe",
   "metadata": {},
   "outputs": [],
   "source": [
    "#show model fit\n",
    "bpass=144\n",
    "plot.plot_transit_fit(tfit,bpass,residuals=1)"
   ]
  },
  {
   "cell_type": "code",
   "execution_count": null,
   "id": "e467b7c6",
   "metadata": {},
   "outputs": [],
   "source": [
    "#plot fit for all spectroscopic ligth curves\n",
    "plot.plot_transit_fit(tfit)"
   ]
  },
  {
   "cell_type": "code",
   "execution_count": null,
   "id": "81e8c2e8",
   "metadata": {
    "tags": []
   },
   "outputs": [],
   "source": [
    "# compile results\n",
    "cprint('Compiling results [percentiles]')\n",
    "result_table = sampler.results(start_chain=10)\n",
    "\n",
    "cprint('Results [percentile]:')\n",
    "sampler.print_results('percentile')"
   ]
  },
  {
   "cell_type": "code",
   "execution_count": null,
   "id": "325709f6",
   "metadata": {},
   "outputs": [],
   "source": [
    "#plot the transmission spectrum\n",
    "fig,ax = plot.plot_rprs_sq(tfit, sampler.results_table,return_object=True)\n",
    "ax.set_xscale('log')"
   ]
  },
  {
   "cell_type": "code",
   "execution_count": null,
   "id": "adcdd413",
   "metadata": {},
   "outputs": [],
   "source": [
    "#show the walker chains\n",
    "ikey=730\n",
    "ikey,=(tfit.xnames==\"SMA1\").nonzero()\n",
    "# bpass=144\n",
    "# ikey=ikey[bpass]\n",
    "\n",
    "print(tfit.xnames[ikey])\n",
    "plt.figure(figsize=(14,5))\n",
    "for w in range(len(sampler.wchains)):\n",
    "    plt.plot(sampler.wchains[w][:,ikey])"
   ]
  },
  {
   "cell_type": "code",
   "execution_count": null,
   "id": "1b1895a2-6eb7-441e-8a76-b158598961dd",
   "metadata": {},
   "outputs": [],
   "source": [
    "#sampler loglikelihood\n",
    "for w in range(len(sampler.wlls)):\n",
    "    plt.plot(sampler.wlls[w])"
   ]
  },
  {
   "cell_type": "code",
   "execution_count": null,
   "id": "6178c66d",
   "metadata": {},
   "outputs": [],
   "source": [
    "#plot the spectrum of any chromatic parameter\n",
    "k=\"TC1\"\n",
    "fig,ax = plot.plot_spectrum(tfit, sampler.results_table,\n",
    "                   key=k,plot_label=k,pkind='percentile',return_object=True)"
   ]
  },
  {
   "cell_type": "code",
   "execution_count": null,
   "id": "b89c5617",
   "metadata": {},
   "outputs": [],
   "source": [
    "#if wanted, use best solution to mask outlier points\n",
    "do_mask=True\n",
    "nsig=3\n",
    "\n",
    "i_dsc,=(tfit.pnames==\"DSC\").nonzero()[0]\n",
    "#loop through band passes, identify outliers, amplify their error (same effect as masking)\n",
    "for bpass in range(tfit.n_phot):\n",
    "    model=tfit.tmodel_func(tfit,bpass)\n",
    "    res=np.abs(tfit.flux[bpass]-model)\n",
    "    #compared to original errors\n",
    "    # res_sig=res/np.nanmedian(tfit.fluxerr[bpass])\n",
    "    #compared to scaled errors\n",
    "    res_sig=res/np.nanmedian(tfit.fluxerr[bpass]*tfit.p0[i_dsc,bpass])\n",
    "    \n",
    "    ibad,=(res_sig>nsig).nonzero()\n",
    "    print(bpass,tfit.wavelength[0,bpass],tfit.p0[i_dsc,bpass],'N outliers=',ibad.size)\n",
    "    if do_mask:\n",
    "        tfit.fluxerr[bpass,ibad]=np.nan"
   ]
  },
  {
   "cell_type": "code",
   "execution_count": null,
   "id": "b6cb71aa",
   "metadata": {},
   "outputs": [],
   "source": [
    "#dump sampler again to save its updated tfit\n",
    "sampler.dump()"
   ]
  },
  {
   "cell_type": "code",
   "execution_count": null,
   "id": "df9fb35a-c5da-417b-af2f-8b11011788da",
   "metadata": {},
   "outputs": [],
   "source": [
    "tfit.params['NSTEPS']['full']=50000"
   ]
  },
  {
   "cell_type": "code",
   "execution_count": null,
   "id": "fd025d47-9cfd-4a5a-adb3-899f8dc1e427",
   "metadata": {},
   "outputs": [],
   "source": [
    "sampler.params['NSTEPS']"
   ]
  },
  {
   "cell_type": "code",
   "execution_count": null,
   "id": "a59fa976-f1d5-4f00-8a7d-969c9a792f60",
   "metadata": {},
   "outputs": [],
   "source": []
  }
 ],
 "metadata": {
  "kernelspec": {
   "display_name": "Python 3.9 JWST",
   "language": "python",
   "name": "python_3.9_jwst"
  },
  "language_info": {
   "codemirror_mode": {
    "name": "ipython",
    "version": 3
   },
   "file_extension": ".py",
   "mimetype": "text/x-python",
   "name": "python",
   "nbconvert_exporter": "python",
   "pygments_lexer": "ipython3",
   "version": "3.9.6"
  }
 },
 "nbformat": 4,
 "nbformat_minor": 5
}
