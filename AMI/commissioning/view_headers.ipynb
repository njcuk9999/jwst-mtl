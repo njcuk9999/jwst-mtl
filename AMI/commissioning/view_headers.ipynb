{
 "cells": [
  {
   "cell_type": "markdown",
   "id": "cefbb7b0",
   "metadata": {},
   "source": [
    "This notebook gives a summary of the NIRISS commissioning data"
   ]
  },
  {
   "cell_type": "code",
   "execution_count": null,
   "id": "052c723e",
   "metadata": {},
   "outputs": [],
   "source": [
    "from pathlib import Path\n",
    "import pandas as pd\n",
    "from astropy.io import fits"
   ]
  },
  {
   "cell_type": "markdown",
   "id": "822cb9e9",
   "metadata": {},
   "source": [
    "First, we just get a list of all simulation files."
   ]
  },
  {
   "cell_type": "code",
   "execution_count": null,
   "id": "f5d16624",
   "metadata": {},
   "outputs": [],
   "source": [
    "data_dir = Path(Path.home(), \"cap_simulations\")\n",
    "data_files = list(data_dir.iterdir())"
   ]
  },
  {
   "cell_type": "markdown",
   "id": "aedd519f",
   "metadata": {},
   "source": [
    "# Summary and example header\n",
    "We can first take a look at the info and header of an example file."
   ]
  },
  {
   "cell_type": "code",
   "execution_count": null,
   "id": "649cfb42",
   "metadata": {},
   "outputs": [],
   "source": [
    "hdul = fits.open(data_files[5])"
   ]
  },
  {
   "cell_type": "code",
   "execution_count": null,
   "id": "574343d4",
   "metadata": {},
   "outputs": [],
   "source": [
    "# General info\n",
    "hdul.info()"
   ]
  },
  {
   "cell_type": "code",
   "execution_count": null,
   "id": "54457e1a",
   "metadata": {},
   "outputs": [],
   "source": [
    "# Primary header\n",
    "hdul[0].header"
   ]
  },
  {
   "cell_type": "code",
   "execution_count": null,
   "id": "7b9fcc02",
   "metadata": {},
   "outputs": [],
   "source": [
    "# SCI header\n",
    "hdul[1].header"
   ]
  },
  {
   "cell_type": "code",
   "execution_count": null,
   "id": "1bc33919",
   "metadata": {},
   "outputs": [],
   "source": [
    "# Close the file\n",
    "hdul.close()"
   ]
  },
  {
   "cell_type": "markdown",
   "id": "20c29b7e",
   "metadata": {},
   "source": [
    "The primary header has a lot of useful info on the observation itself and on\n",
    "the instrument configuration (exposure, dither, object name, date, program, etc.).\n",
    "\n",
    "I also printed the SCI header (hdul[1].header) because it seems important to orient the image properly\n",
    "Here are a few useful links (I think):\n",
    "- https://docs.astropy.org/en/stable/wcs/index.html\n",
    "- https://docs.astropy.org/en/stable/api/astropy.coordinates.SkyCoord.html\n",
    "- https://jwst-docs.stsci.edu/jwst-observatory-hardware/jwst-observatory-coordinate-system-and-field-of-regard\n",
    "- https://jwst-docs.stsci.edu/jwst-observatory-functionality/jwst-position-angles-ranges-and-offsets"
   ]
  },
  {
   "cell_type": "markdown",
   "id": "745b95a3",
   "metadata": {},
   "source": [
    "# Dataset summary\n",
    "Now we can load all primary headers to get a summary of the observations.\n",
    "We use a pandas dataframe to easily group and filter information."
   ]
  },
  {
   "cell_type": "code",
   "execution_count": null,
   "id": "5d8537c8",
   "metadata": {},
   "outputs": [],
   "source": [
    "d = []\n",
    "for fpath in data_files:\n",
    "    hdr = fits.getheader(fpath)\n",
    "    # remove blank keys from header\n",
    "    del hdr['']\n",
    "    d.append(dict(hdr))\n",
    "\n",
    "df = pd.DataFrame(d)"
   ]
  },
  {
   "cell_type": "code",
   "execution_count": null,
   "id": "a481496a",
   "metadata": {},
   "outputs": [],
   "source": [
    "# Example quick filter\n",
    "# df_filters = (df.SUBARRAY == \"SUB80\")\n",
    "# df = df[df_filters]\n",
    "\n",
    "# This grouby can be used to see how many files we have, broken down in\n",
    "# detailed catergories\n",
    "# We can comment categories if we want to simplify the summary\n",
    "group_cat = [\n",
    "    \"OBSLABEL\",\n",
    "    \"TARGPROP\",\n",
    "    \"FILTER\",\n",
    "    \"PUPIL\",\n",
    "    \"EXP_TYPE\",\n",
    "    \"SUBARRAY\",\n",
    "    \"PATT_NUM\",\n",
    "    \"SUBPXPTS\",\n",
    "    \"NINTS\",\n",
    "    \"NGROUPS\"\n",
    "]\n",
    "cat_sizes = df.groupby(group_cat).size()\n",
    "cat_sizes.to_frame(name=\"NFILES\")"
   ]
  },
  {
   "cell_type": "code",
   "execution_count": null,
   "id": "188af572",
   "metadata": {},
   "outputs": [],
   "source": [
    "# Now we can use the above categories as index to get files for each of them\n",
    "pd.set_option(\"display.max_rows\", None)\n",
    "cat_df = df.set_index(group_cat)\n",
    "cat_files = cat_df.FILENAME\n",
    "cat_files.to_frame()"
   ]
  },
  {
   "cell_type": "markdown",
   "id": "a9de6d1f-9830-4827-b1b3-62d606d7f7e6",
   "metadata": {},
   "source": [
    "Some observations on the above file info:\n",
    "- In Observation 1, The two files with 29 integrations per exposure in F480M at the end of observation 1 are used to reach the 72k limit, TA SNR is 286\n",
    "- Observation 2 is the same as 1, but no extra F480M\n",
    "\n",
    "Here's how the files are links (for the parts I think I understand):\n",
    "- 1 and 2 have 4 and 6 as calibrators\n",
    "- 3 has 5 and 7 as calibrators\n",
    "    - Not sure why 7 has 25 subpixel dithers"
   ]
  }
 ],
 "metadata": {
  "jupytext": {
   "cell_metadata_filter": "-all",
   "main_language": "python",
   "notebook_metadata_filter": "-all"
  },
  "kernelspec": {
   "display_name": "Python 3 (ipykernel)",
   "language": "python",
   "name": "python3"
  },
  "language_info": {
   "codemirror_mode": {
    "name": "ipython",
    "version": 3
   },
   "file_extension": ".py",
   "mimetype": "text/x-python",
   "name": "python",
   "nbconvert_exporter": "python",
   "pygments_lexer": "ipython3",
   "version": "3.9.5"
  }
 },
 "nbformat": 4,
 "nbformat_minor": 5
}
